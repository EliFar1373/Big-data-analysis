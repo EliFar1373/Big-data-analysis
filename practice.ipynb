{
 "cells": [
  {
   "cell_type": "code",
   "execution_count": 1,
   "id": "cf095307-a426-4aff-8132-c28a3df292a7",
   "metadata": {},
   "outputs": [],
   "source": [
    "from pyspark.sql import SparkSession"
   ]
  },
  {
   "cell_type": "code",
   "execution_count": 3,
   "id": "02898bff-0291-42ff-b43b-16e52bde1ba5",
   "metadata": {},
   "outputs": [],
   "source": [
    "spark=SparkSession.builder.appName('hi').getOrCreate()"
   ]
  },
  {
   "cell_type": "code",
   "execution_count": 5,
   "id": "c93291eb-5ca8-4020-8f6a-f4ea84666cd6",
   "metadata": {},
   "outputs": [
    {
     "name": "stdout",
     "output_type": "stream",
     "text": [
      "+----+---+\n",
      "|name|age|\n",
      "+----+---+\n",
      "| eli| 30|\n",
      "|  el| 53|\n",
      "+----+---+\n",
      "\n"
     ]
    }
   ],
   "source": [
    "data=[('eli',30),('el',53)]\n",
    "df=spark.createDataFrame(data,['name','age'])\n",
    "df.show()"
   ]
  },
  {
   "cell_type": "code",
   "execution_count": 7,
   "id": "3931efe2-d1c1-402f-a7f0-42dbea597a55",
   "metadata": {},
   "outputs": [
    {
     "data": {
      "text/plain": [
       "DataFrame[summary: string, name: string, age: string]"
      ]
     },
     "execution_count": 7,
     "metadata": {},
     "output_type": "execute_result"
    }
   ],
   "source": [
    "df.describe()"
   ]
  },
  {
   "cell_type": "code",
   "execution_count": 6,
   "id": "b572c31b-6aed-41ca-aec4-e96715694341",
   "metadata": {},
   "outputs": [
    {
     "name": "stdout",
     "output_type": "stream",
     "text": [
      "root\n",
      " |-- name: string (nullable = true)\n",
      " |-- age: long (nullable = true)\n",
      "\n"
     ]
    }
   ],
   "source": [
    "df.printSchema()"
   ]
  },
  {
   "cell_type": "code",
   "execution_count": 10,
   "id": "afe21b28-2164-4066-a52b-17d02f560435",
   "metadata": {},
   "outputs": [
    {
     "name": "stdout",
     "output_type": "stream",
     "text": [
      "+----+---+---+\n",
      "|name|age|new|\n",
      "+----+---+---+\n",
      "| eli| 30| 60|\n",
      "|  el| 53|106|\n",
      "+----+---+---+\n",
      "\n"
     ]
    }
   ],
   "source": [
    "df.withColumn('new',df['age']*2).show()"
   ]
  },
  {
   "cell_type": "code",
   "execution_count": 11,
   "id": "1a55a22c-2b8d-4139-9a6f-bfbf37ced706",
   "metadata": {},
   "outputs": [
    {
     "name": "stdout",
     "output_type": "stream",
     "text": [
      "+----+---+\n",
      "|name|age|\n",
      "+----+---+\n",
      "| eli| 30|\n",
      "+----+---+\n",
      "only showing top 1 row\n",
      "\n"
     ]
    }
   ],
   "source": [
    "df.withColumnRenamed('new','two tiems of age').show(1)"
   ]
  },
  {
   "cell_type": "code",
   "execution_count": 12,
   "id": "7c266d35-dbfe-4cb8-bf92-5d74489a1669",
   "metadata": {},
   "outputs": [
    {
     "name": "stdout",
     "output_type": "stream",
     "text": [
      "+----+\n",
      "|name|\n",
      "+----+\n",
      "| eli|\n",
      "|  el|\n",
      "+----+\n",
      "\n"
     ]
    }
   ],
   "source": [
    "df.select('name').show()"
   ]
  },
  {
   "cell_type": "code",
   "execution_count": 13,
   "id": "52ff7b76-1087-433b-932d-99018c61f130",
   "metadata": {},
   "outputs": [
    {
     "name": "stdout",
     "output_type": "stream",
     "text": [
      "+----+---+\n",
      "|name|age|\n",
      "+----+---+\n",
      "| eli| 30|\n",
      "|  el| 53|\n",
      "+----+---+\n",
      "\n"
     ]
    }
   ],
   "source": [
    "df.filter(df['age']<60).show()"
   ]
  },
  {
   "cell_type": "code",
   "execution_count": 15,
   "id": "56bcccf0-44ad-4fd8-8935-8f0e87361bc0",
   "metadata": {},
   "outputs": [
    {
     "name": "stdout",
     "output_type": "stream",
     "text": [
      "+----+-----+\n",
      "|name|count|\n",
      "+----+-----+\n",
      "| eli|    1|\n",
      "|  el|    1|\n",
      "+----+-----+\n",
      "\n"
     ]
    }
   ],
   "source": [
    "df.groupBy('name').count().show()"
   ]
  },
  {
   "cell_type": "code",
   "execution_count": 19,
   "id": "8d893f4a-e4d8-45ae-9b3d-6cb2c904c559",
   "metadata": {},
   "outputs": [
    {
     "name": "stdout",
     "output_type": "stream",
     "text": [
      "+----+\n",
      "|word|\n",
      "+----+\n",
      "| eli|\n",
      "|  el|\n",
      "+----+\n",
      "\n"
     ]
    }
   ],
   "source": [
    "df.selectExpr(\"name as word\").show()"
   ]
  },
  {
   "cell_type": "code",
   "execution_count": 31,
   "id": "a52efd20-a9f3-487a-b773-9b8aace07b74",
   "metadata": {},
   "outputs": [
    {
     "name": "stdout",
     "output_type": "stream",
     "text": [
      "+-----------+\n",
      "|        dou|\n",
      "+-----------+\n",
      "|[e, l, i, ]|\n",
      "|   [e, l, ]|\n",
      "+-----------+\n",
      "\n"
     ]
    }
   ],
   "source": [
    "df.selectExpr(\"split(name,'(?<=.)') as dou\").show()"
   ]
  },
  {
   "cell_type": "code",
   "execution_count": 29,
   "id": "ffdb4790-85a6-4bc2-9fe1-4c42ffbdad7e",
   "metadata": {},
   "outputs": [
    {
     "name": "stdout",
     "output_type": "stream",
     "text": [
      "+---+\n",
      "|new|\n",
      "+---+\n",
      "|  e|\n",
      "|  l|\n",
      "|  i|\n",
      "|   |\n",
      "|  e|\n",
      "|  l|\n",
      "|   |\n",
      "+---+\n",
      "\n"
     ]
    }
   ],
   "source": [
    "df.selectExpr(\"explode(split(name,'(?<=.)')) as new\").show()"
   ]
  },
  {
   "cell_type": "code",
   "execution_count": 33,
   "id": "f3256d21-fe65-487e-b05d-5968bbff21a4",
   "metadata": {},
   "outputs": [
    {
     "name": "stdout",
     "output_type": "stream",
     "text": [
      "+----+-----+\n",
      "|word|count|\n",
      "+----+-----+\n",
      "|   l|    2|\n",
      "|   e|    2|\n",
      "|   i|    1|\n",
      "|    |    2|\n",
      "+----+-----+\n",
      "\n"
     ]
    }
   ],
   "source": [
    "\n",
    "\n",
    "result_df = df.selectExpr(\"explode(split(name, '(?<=.)')) as word\") \\\n",
    "    .groupBy(\"word\").count()\n",
    "\n",
    "result_df.show()"
   ]
  },
  {
   "cell_type": "code",
   "execution_count": 47,
   "id": "1dc16b29-fc08-41ed-b484-c34170e6fe27",
   "metadata": {},
   "outputs": [
    {
     "name": "stdout",
     "output_type": "stream",
     "text": [
      "+---+-----+\n",
      "| hg|count|\n",
      "+---+-----+\n",
      "|  i|    1|\n",
      "|  l|    2|\n",
      "|  e|    2|\n",
      "|   |    2|\n",
      "+---+-----+\n",
      "\n"
     ]
    }
   ],
   "source": [
    "df.selectExpr(\"explode(split(name,'(?<=.)')) as hg\").groupBy('hg').count().orderBy(\"count\").show()"
   ]
  },
  {
   "cell_type": "code",
   "execution_count": 49,
   "id": "789380d2-b822-4ec7-9673-0787e350fccb",
   "metadata": {},
   "outputs": [],
   "source": [
    "df.createOrReplaceTempView(\"my_table\")"
   ]
  },
  {
   "cell_type": "code",
   "execution_count": 50,
   "id": "ab3101aa-d63b-444e-970d-b4349297fb3c",
   "metadata": {},
   "outputs": [
    {
     "name": "stdout",
     "output_type": "stream",
     "text": [
      "+----+---+\n",
      "|name|age|\n",
      "+----+---+\n",
      "| eli| 30|\n",
      "|  el| 53|\n",
      "+----+---+\n",
      "\n"
     ]
    }
   ],
   "source": [
    "spark.sql(\"select * from my_table\").show()"
   ]
  },
  {
   "cell_type": "code",
   "execution_count": 52,
   "id": "048b8c3a-4bec-4736-9129-12a3e023e9d3",
   "metadata": {},
   "outputs": [
    {
     "data": {
      "text/plain": [
       "True"
      ]
     },
     "execution_count": 52,
     "metadata": {},
     "output_type": "execute_result"
    }
   ],
   "source": [
    "spark.catalog.dropTempView(\"my_table\")"
   ]
  },
  {
   "cell_type": "code",
   "execution_count": 54,
   "id": "27c65edf-5444-447c-b1db-c7e386023304",
   "metadata": {},
   "outputs": [
    {
     "data": {
      "text/plain": [
       "False"
      ]
     },
     "execution_count": 54,
     "metadata": {},
     "output_type": "execute_result"
    }
   ],
   "source": [
    "spark.catalog.tableExists(\"my_table\")"
   ]
  },
  {
   "cell_type": "code",
   "execution_count": 72,
   "id": "8d11baa3-38d6-46d5-af99-65452425a091",
   "metadata": {},
   "outputs": [
    {
     "name": "stdout",
     "output_type": "stream",
     "text": [
      "+---+-------+----------+------+\n",
      "| id|   name|department|salary|\n",
      "+---+-------+----------+------+\n",
      "|  1|  Alice|        HR|  3000|\n",
      "|  2|    Bob|        HR|  4000|\n",
      "|  3|Charlie|        IT|  5000|\n",
      "|  4|  David|        IT|  6000|\n",
      "|  5|    Eve|        IT|  7000|\n",
      "|  6|  Frank|   Finance|  4500|\n",
      "|  7|  Grace|   Finance|  5500|\n",
      "+---+-------+----------+------+\n",
      "\n"
     ]
    }
   ],
   "source": [
    "spark2 = SparkSession.builder.appName(\"WindowFunctions\").getOrCreate()\n",
    "\n",
    "data = [\n",
    "    (1, \"Alice\", \"HR\", 3000),\n",
    "    (2, \"Bob\", \"HR\", 4000),\n",
    "    (3, \"Charlie\", \"IT\", 5000),\n",
    "    (4, \"David\", \"IT\", 6000),\n",
    "    (5, \"Eve\", \"IT\", 7000),\n",
    "    (6, \"Frank\", \"Finance\", 4500),\n",
    "    (7, \"Grace\", \"Finance\", 5500),\n",
    "]\n",
    "\n",
    "df2 = spark2.createDataFrame(data, [\"id\", \"name\", \"department\", \"salary\"])\n",
    "df2.show()"
   ]
  },
  {
   "cell_type": "code",
   "execution_count": 73,
   "id": "e9c2e5e5-c108-4808-b5fe-299b132f58bc",
   "metadata": {},
   "outputs": [
    {
     "name": "stdout",
     "output_type": "stream",
     "text": [
      "+---+-------+----------+------+----+\n",
      "| id|   name|department|salary|rank|\n",
      "+---+-------+----------+------+----+\n",
      "|  6|  Frank|   Finance|  4500|   1|\n",
      "|  7|  Grace|   Finance|  5500|   2|\n",
      "|  1|  Alice|        HR|  3000|   1|\n",
      "|  2|    Bob|        HR|  4000|   2|\n",
      "|  3|Charlie|        IT|  5000|   1|\n",
      "|  4|  David|        IT|  6000|   2|\n",
      "|  5|    Eve|        IT|  7000|   3|\n",
      "+---+-------+----------+------+----+\n",
      "\n"
     ]
    }
   ],
   "source": [
    "from pyspark.sql.window import Window\n",
    "from pyspark.sql import functions as F\n",
    "from pyspark.sql.functions import row_number, rank, dense_rank, sum, avg, count, lag, lead\n",
    "wind=Window.partitionBy('department').orderBy('salary')\n",
    "df2.withColumn('rank',F.rank().over(wind)).show()"
   ]
  },
  {
   "cell_type": "code",
   "execution_count": 75,
   "id": "a01e6078-54b6-4b50-a4a4-d69b380873c1",
   "metadata": {},
   "outputs": [
    {
     "name": "stdout",
     "output_type": "stream",
     "text": [
      "+---+-------+----------+------+--------------------------+\n",
      "| id|   name|department|salary|sum_salary_each_department|\n",
      "+---+-------+----------+------+--------------------------+\n",
      "|  6|  Frank|   Finance|  4500|                      4500|\n",
      "|  7|  Grace|   Finance|  5500|                     10000|\n",
      "|  1|  Alice|        HR|  3000|                      3000|\n",
      "|  2|    Bob|        HR|  4000|                      7000|\n",
      "|  3|Charlie|        IT|  5000|                      5000|\n",
      "|  4|  David|        IT|  6000|                     11000|\n",
      "|  5|    Eve|        IT|  7000|                     18000|\n",
      "+---+-------+----------+------+--------------------------+\n",
      "\n"
     ]
    }
   ],
   "source": [
    "#Cumulative salary sum within each department.\n",
    "df2.withColumn('sum_salary_each_department',sum('salary').over(wind)).show()"
   ]
  },
  {
   "cell_type": "code",
   "execution_count": 70,
   "id": "0915c5a3-a616-436b-a4c4-ff1f41ddd51f",
   "metadata": {},
   "outputs": [],
   "source": [
    "spark2.stop()"
   ]
  },
  {
   "cell_type": "code",
   "execution_count": null,
   "id": "699cb087-403a-4883-9e2f-3fb531e079cc",
   "metadata": {},
   "outputs": [],
   "source": []
  },
  {
   "cell_type": "code",
   "execution_count": null,
   "id": "45f55d6c-f494-423e-b987-435d2e4d993f",
   "metadata": {},
   "outputs": [],
   "source": []
  },
  {
   "cell_type": "code",
   "execution_count": null,
   "id": "8db62fc7-6890-430b-ad71-f9faeaac8db6",
   "metadata": {},
   "outputs": [],
   "source": []
  }
 ],
 "metadata": {
  "kernelspec": {
   "display_name": "Python 3 (ipykernel)",
   "language": "python",
   "name": "python3"
  },
  "language_info": {
   "codemirror_mode": {
    "name": "ipython",
    "version": 3
   },
   "file_extension": ".py",
   "mimetype": "text/x-python",
   "name": "python",
   "nbconvert_exporter": "python",
   "pygments_lexer": "ipython3",
   "version": "3.11.6"
  }
 },
 "nbformat": 4,
 "nbformat_minor": 5
}
