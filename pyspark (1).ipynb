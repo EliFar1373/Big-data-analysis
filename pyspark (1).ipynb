{
 "cells": [
  {
   "cell_type": "code",
   "execution_count": 1,
   "id": "251cb422-f094-4181-8e4a-b781f5a677ce",
   "metadata": {},
   "outputs": [],
   "source": [
    "from pyspark.sql import SparkSession"
   ]
  },
  {
   "cell_type": "code",
   "execution_count": 4,
   "id": "aedc24c2-f7fd-4740-9ebe-e250e852c425",
   "metadata": {},
   "outputs": [],
   "source": [
    "spark=SparkSession.builder.appName(\"first\").getOrCreate()\n",
    "\n",
    "\n"
   ]
  },
  {
   "cell_type": "code",
   "execution_count": 10,
   "id": "79bf13cf-2421-4c25-a84a-a26079c3d7d4",
   "metadata": {},
   "outputs": [],
   "source": [
    "data=spark.read.format(\"csv\").option(\"header\",\"true\").load(r\"taxi.csv\")\n",
    "\n",
    "\n"
   ]
  },
  {
   "cell_type": "code",
   "execution_count": 11,
   "id": "0ecf4c3c-f078-402b-b645-640488f12a8c",
   "metadata": {},
   "outputs": [
    {
     "name": "stdout",
     "output_type": "stream",
     "text": [
      "+----------+-------+--------------------+------------+\n",
      "|LocationID|Borough|                Zone|service_zone|\n",
      "+----------+-------+--------------------+------------+\n",
      "|         1|    EWR|      Newark Airport|         EWR|\n",
      "|         2| Queens|         Jamaica Bay|   Boro Zone|\n",
      "|         3|  Bronx|Allerton/Pelham G...|   Boro Zone|\n",
      "+----------+-------+--------------------+------------+\n",
      "only showing top 3 rows\n",
      "\n"
     ]
    }
   ],
   "source": [
    "data.show(3)"
   ]
  },
  {
   "cell_type": "code",
   "execution_count": 14,
   "id": "4ea988ac-fb1c-46f4-8fe8-aab91ce66b57",
   "metadata": {},
   "outputs": [
    {
     "name": "stdout",
     "output_type": "stream",
     "text": [
      "+----------+-------------+--------------------+------------+\n",
      "|LocationID|      Borough|                Zone|service_zone|\n",
      "+----------+-------------+--------------------+------------+\n",
      "|         1|          EWR|      Newark Airport|         EWR|\n",
      "|         2|       Queens|         Jamaica Bay|   Boro Zone|\n",
      "|         3|        Bronx|Allerton/Pelham G...|   Boro Zone|\n",
      "|         4|    Manhattan|       Alphabet City| Yellow Zone|\n",
      "|         5|Staten Island|       Arden Heights|   Boro Zone|\n",
      "|         6|Staten Island|Arrochar/Fort Wad...|   Boro Zone|\n",
      "|         7|       Queens|             Astoria|   Boro Zone|\n",
      "|         8|       Queens|        Astoria Park|   Boro Zone|\n",
      "|         9|       Queens|          Auburndale|   Boro Zone|\n",
      "+----------+-------------+--------------------+------------+\n",
      "\n"
     ]
    }
   ],
   "source": [
    "filtered_df=data.filter(data['LocationID']<10)\n",
    "filtered_df.show()"
   ]
  },
  {
   "cell_type": "code",
   "execution_count": 19,
   "id": "31bc21be-12a6-4005-9b11-aa8661a82a26",
   "metadata": {},
   "outputs": [
    {
     "name": "stdout",
     "output_type": "stream",
     "text": [
      "+-------+\n",
      "|Borough|\n",
      "+-------+\n",
      "|    EWR|\n",
      "| Queens|\n",
      "+-------+\n",
      "only showing top 2 rows\n",
      "\n"
     ]
    }
   ],
   "source": [
    "data.select('Borough').show(2)"
   ]
  },
  {
   "cell_type": "code",
   "execution_count": 22,
   "id": "b4629064-80dc-4a39-b325-ac73ce312482",
   "metadata": {},
   "outputs": [
    {
     "name": "stdout",
     "output_type": "stream",
     "text": [
      "+----------+-------+------------+\n",
      "|LocationID|Borough|service_zone|\n",
      "+----------+-------+------------+\n",
      "|         1|    EWR|         EWR|\n",
      "|         2| Queens|   Boro Zone|\n",
      "+----------+-------+------------+\n",
      "only showing top 2 rows\n",
      "\n"
     ]
    }
   ],
   "source": [
    "df_dropped=data.drop('Zone').show(2)"
   ]
  },
  {
   "cell_type": "code",
   "execution_count": 26,
   "id": "aac0ac85-661f-4983-b5af-e09647f6bebe",
   "metadata": {},
   "outputs": [
    {
     "data": {
      "text/plain": [
       "DataFrame[LocationID: string, Borough: string, Zone: string, service_zone: string]"
      ]
     },
     "execution_count": 26,
     "metadata": {},
     "output_type": "execute_result"
    }
   ],
   "source": [
    "data.dropDuplicates()\n",
    "data.dropna()"
   ]
  },
  {
   "cell_type": "code",
   "execution_count": 49,
   "id": "c401fb92-e8ef-4bb5-bd21-6b22e5769bff",
   "metadata": {},
   "outputs": [
    {
     "name": "stdout",
     "output_type": "stream",
     "text": [
      "+----------+-------+-----------------+------------+\n",
      "|LocationID|Borough|             Zone|service_zone|\n",
      "+----------+-------+-----------------+------------+\n",
      "|       132| Queens|      JFK Airport|    Airports|\n",
      "|       138| Queens|LaGuardia Airport|    Airports|\n",
      "+----------+-------+-----------------+------------+\n",
      "only showing top 2 rows\n",
      "\n"
     ]
    }
   ],
   "source": [
    "data.orderBy(data['service_zone'],).show(2)"
   ]
  },
  {
   "cell_type": "code",
   "execution_count": 31,
   "id": "a0281d53-a865-4803-9f32-6486d057972b",
   "metadata": {},
   "outputs": [
    {
     "name": "stdout",
     "output_type": "stream",
     "text": [
      "+----------+-------+--------------------+---------+\n",
      "|LocationID|Borough|                Zone|  Service|\n",
      "+----------+-------+--------------------+---------+\n",
      "|         1|    EWR|      Newark Airport|      EWR|\n",
      "|         2| Queens|         Jamaica Bay|Boro Zone|\n",
      "|         3|  Bronx|Allerton/Pelham G...|Boro Zone|\n",
      "+----------+-------+--------------------+---------+\n",
      "only showing top 3 rows\n",
      "\n"
     ]
    }
   ],
   "source": [
    "df_renamed=data.withColumnRenamed('service_zone','Service')\n",
    "df_renamed.show(3)"
   ]
  },
  {
   "cell_type": "code",
   "execution_count": 42,
   "id": "11337e4b-1285-4cb8-a555-5baaa3092119",
   "metadata": {},
   "outputs": [],
   "source": [
    "from pyspark.sql.functions import col\n",
    "df_filtered3=df_renamed.filter(col('Service')=='Boro Zone')\n"
   ]
  },
  {
   "cell_type": "code",
   "execution_count": 43,
   "id": "831adcdd-bf45-47c8-8bda-736a938f0f5d",
   "metadata": {},
   "outputs": [],
   "source": [
    "df_filtered2=df_renamed.filter(df_renamed['Service']=='Boro Zone')"
   ]
  },
  {
   "cell_type": "code",
   "execution_count": 45,
   "id": "95e45c5d-aaa2-49f2-8c0b-48c557eeb44a",
   "metadata": {},
   "outputs": [
    {
     "name": "stdout",
     "output_type": "stream",
     "text": [
      "+---------+\n",
      "|  Service|\n",
      "+---------+\n",
      "|      EWR|\n",
      "|Boro Zone|\n",
      "+---------+\n",
      "only showing top 2 rows\n",
      "\n"
     ]
    }
   ],
   "source": [
    "df_renamed.select('Service').show(2)"
   ]
  },
  {
   "cell_type": "markdown",
   "id": "3acfb2dc-26af-46b0-840d-d6dd6d0b827a",
   "metadata": {},
   "source": [
    "df_renamed['Service']: This is a shorthand for df_renamed.col(\"Service\") and returns a Column object.\n",
    ".show(): This method is available on a DataFrame, not on a Column"
   ]
  },
  {
   "cell_type": "code",
   "execution_count": 52,
   "id": "7e4e279a-a6f3-48de-b1b0-c4f80e8cf6bd",
   "metadata": {},
   "outputs": [
    {
     "name": "stdout",
     "output_type": "stream",
     "text": [
      "+----------+-------+--------------+------------+----------+\n",
      "|LocationID|Borough|          Zone|service_zone|new_column|\n",
      "+----------+-------+--------------+------------+----------+\n",
      "|         1|    EWR|Newark Airport|         EWR|      20.0|\n",
      "|         2| Queens|   Jamaica Bay|   Boro Zone|      40.0|\n",
      "+----------+-------+--------------+------------+----------+\n",
      "only showing top 2 rows\n",
      "\n"
     ]
    }
   ],
   "source": [
    "data.withColumn('new_column',data['LocationID']*20).show(2)"
   ]
  },
  {
   "cell_type": "code",
   "execution_count": 53,
   "id": "3c1dc6c8-a21f-4d74-9be1-32d3ef6cce0b",
   "metadata": {},
   "outputs": [
    {
     "name": "stdout",
     "output_type": "stream",
     "text": [
      "root\n",
      " |-- LocationID: string (nullable = true)\n",
      " |-- Borough: string (nullable = true)\n",
      " |-- Zone: string (nullable = true)\n",
      " |-- service_zone: string (nullable = true)\n",
      "\n"
     ]
    }
   ],
   "source": [
    "data.printSchema()"
   ]
  },
  {
   "cell_type": "code",
   "execution_count": 54,
   "id": "670c97bf-72e2-426d-81f0-dc025b242c06",
   "metadata": {},
   "outputs": [
    {
     "data": {
      "text/plain": [
       "pyspark.sql.dataframe.DataFrame"
      ]
     },
     "execution_count": 54,
     "metadata": {},
     "output_type": "execute_result"
    }
   ],
   "source": [
    "type(data)"
   ]
  },
  {
   "cell_type": "code",
   "execution_count": 55,
   "id": "3aab5a9e-d07c-47eb-9db2-74d1127007d0",
   "metadata": {},
   "outputs": [
    {
     "data": {
      "text/plain": [
       "[Row(LocationID='1', Borough='EWR', Zone='Newark Airport', service_zone='EWR'),\n",
       " Row(LocationID='2', Borough='Queens', Zone='Jamaica Bay', service_zone='Boro Zone'),\n",
       " Row(LocationID='3', Borough='Bronx', Zone='Allerton/Pelham Gardens', service_zone='Boro Zone')]"
      ]
     },
     "execution_count": 55,
     "metadata": {},
     "output_type": "execute_result"
    }
   ],
   "source": [
    "data.head(3)"
   ]
  },
  {
   "cell_type": "code",
   "execution_count": 56,
   "id": "c364887f-921c-4a26-b08a-e934d70c1144",
   "metadata": {},
   "outputs": [
    {
     "name": "stdout",
     "output_type": "stream",
     "text": [
      "+----------+-------+--------------------+------------+\n",
      "|LocationID|Borough|                Zone|service_zone|\n",
      "+----------+-------+--------------------+------------+\n",
      "|         1|    EWR|      Newark Airport|         EWR|\n",
      "|         2| Queens|         Jamaica Bay|   Boro Zone|\n",
      "|         3|  Bronx|Allerton/Pelham G...|   Boro Zone|\n",
      "+----------+-------+--------------------+------------+\n",
      "only showing top 3 rows\n",
      "\n"
     ]
    }
   ],
   "source": [
    "data.show(3)"
   ]
  },
  {
   "cell_type": "code",
   "execution_count": 57,
   "id": "7f67360c-05bc-4677-8c48-192cf4b01350",
   "metadata": {},
   "outputs": [
    {
     "data": {
      "text/plain": [
       "list"
      ]
     },
     "execution_count": 57,
     "metadata": {},
     "output_type": "execute_result"
    }
   ],
   "source": [
    "type(data.head(3))"
   ]
  },
  {
   "cell_type": "code",
   "execution_count": 58,
   "id": "eb7df3ec-6703-4ff1-b581-72f3ad36cbb9",
   "metadata": {},
   "outputs": [
    {
     "name": "stdout",
     "output_type": "stream",
     "text": [
      "+----------+-------+--------------------+------------+\n",
      "|LocationID|Borough|                Zone|service_zone|\n",
      "+----------+-------+--------------------+------------+\n",
      "|         1|    EWR|      Newark Airport|         EWR|\n",
      "|         2| Queens|         Jamaica Bay|   Boro Zone|\n",
      "|         3|  Bronx|Allerton/Pelham G...|   Boro Zone|\n",
      "+----------+-------+--------------------+------------+\n",
      "only showing top 3 rows\n",
      "\n"
     ]
    },
    {
     "data": {
      "text/plain": [
       "NoneType"
      ]
     },
     "execution_count": 58,
     "metadata": {},
     "output_type": "execute_result"
    }
   ],
   "source": [
    "type(data.show(3))"
   ]
  },
  {
   "cell_type": "code",
   "execution_count": 59,
   "id": "fbf87690-7971-4432-9dd2-85b1e5d8fda2",
   "metadata": {},
   "outputs": [
    {
     "data": {
      "text/plain": [
       "DataFrame[summary: string, LocationID: string, Borough: string, Zone: string, service_zone: string]"
      ]
     },
     "execution_count": 59,
     "metadata": {},
     "output_type": "execute_result"
    }
   ],
   "source": [
    "data.describe()"
   ]
  },
  {
   "cell_type": "code",
   "execution_count": 60,
   "id": "802bf990-d3d7-44d1-9907-dbef40e770e6",
   "metadata": {},
   "outputs": [
    {
     "name": "stdout",
     "output_type": "stream",
     "text": [
      "+-------+---------------+-------+--------------------+------------+\n",
      "|summary|     LocationID|Borough|                Zone|service_zone|\n",
      "+-------+---------------+-------+--------------------+------------+\n",
      "|  count|            265|    265|                 265|         265|\n",
      "|   mean|          133.0|   NULL|                NULL|        NULL|\n",
      "| stddev|76.643112323722|   NULL|                NULL|        NULL|\n",
      "|    min|              1|  Bronx|Allerton/Pelham G...|    Airports|\n",
      "|    max|             99|Unknown|      Yorkville West| Yellow Zone|\n",
      "+-------+---------------+-------+--------------------+------------+\n",
      "\n"
     ]
    }
   ],
   "source": [
    "data.describe().show()"
   ]
  },
  {
   "cell_type": "code",
   "execution_count": 61,
   "id": "1590c4c9-ad3d-401e-a7f6-76c2a5dc32ba",
   "metadata": {},
   "outputs": [
    {
     "data": {
      "text/plain": [
       "Column<'LocationID'>"
      ]
     },
     "execution_count": 61,
     "metadata": {},
     "output_type": "execute_result"
    }
   ],
   "source": [
    "data['LocationID']"
   ]
  },
  {
   "cell_type": "code",
   "execution_count": 62,
   "id": "bc0bf520-faf6-4a70-98d0-c016336c9fe4",
   "metadata": {},
   "outputs": [
    {
     "data": {
      "text/plain": [
       "DataFrame[LocationID: string]"
      ]
     },
     "execution_count": 62,
     "metadata": {},
     "output_type": "execute_result"
    }
   ],
   "source": [
    "data.select('LocationID')"
   ]
  },
  {
   "cell_type": "code",
   "execution_count": 64,
   "id": "e6ea5e94-654c-4bbe-8253-2052e7f5bada",
   "metadata": {},
   "outputs": [],
   "source": [
    "df=spark.read.csv('taxi.csv',header=True,inferSchema=True)"
   ]
  },
  {
   "cell_type": "code",
   "execution_count": 65,
   "id": "16691962-65bb-44d0-90aa-c01b00dccec7",
   "metadata": {},
   "outputs": [
    {
     "data": {
      "text/plain": [
       "[Row(LocationID=1, Borough='EWR', Zone='Newark Airport', service_zone='EWR'),\n",
       " Row(LocationID=2, Borough='Queens', Zone='Jamaica Bay', service_zone='Boro Zone')]"
      ]
     },
     "execution_count": 65,
     "metadata": {},
     "output_type": "execute_result"
    }
   ],
   "source": [
    "df.head(2)"
   ]
  },
  {
   "cell_type": "code",
   "execution_count": 74,
   "id": "357de205-1098-47ce-a550-447e4f5d33a6",
   "metadata": {},
   "outputs": [],
   "source": [
    "df.fillna('missing value',['service_zone','Zone'])\n",
    "df=df.fillna({'service_zone':'missing value','Zone':'unknown'})"
   ]
  },
  {
   "cell_type": "markdown",
   "id": "c95bc233-8634-4e04-b4fe-0dff38d3b2eb",
   "metadata": {},
   "source": [
    "#this is used for numeric columns\n",
    "from pyspark.ml.feature import Imputer\n",
    "imputer=Imputer(inputCols=['service_zone','Zone'],\n",
    "                outputCols=[\"{}_imputed\".format(c) for c in ['service_zone','Zone']]).setStrategy('median')\n",
    "\n",
    "fitted_imputer=imputer.fit(df)\n",
    "frasnformed_df=fitted_imputer.transform(df)\n",
    "frasnformed_df.show()\n"
   ]
  },
  {
   "cell_type": "code",
   "execution_count": 79,
   "id": "aa28938c-7d12-4c44-af8e-23f55d620fa0",
   "metadata": {},
   "outputs": [
    {
     "name": "stdout",
     "output_type": "stream",
     "text": [
      "+----------+-------+--------------------+------------+\n",
      "|LocationID|Borough|                Zone|service_zone|\n",
      "+----------+-------+--------------------+------------+\n",
      "|         1|    EWR|      Newark Airport|         EWR|\n",
      "|         2| Queens|         Jamaica Bay|   Boro Zone|\n",
      "|         3|  Bronx|Allerton/Pelham G...|   Boro Zone|\n",
      "+----------+-------+--------------------+------------+\n",
      "\n"
     ]
    }
   ],
   "source": [
    "df.filter(df['LocationID']<=3).show()\n"
   ]
  },
  {
   "cell_type": "code",
   "execution_count": 83,
   "id": "dd184e9a-1d3a-44c2-a1ab-73cb9211bb3a",
   "metadata": {},
   "outputs": [
    {
     "name": "stdout",
     "output_type": "stream",
     "text": [
      "+--------------------+----------+\n",
      "|                Zone|LocationID|\n",
      "+--------------------+----------+\n",
      "|      Newark Airport|         1|\n",
      "|         Jamaica Bay|         2|\n",
      "|Allerton/Pelham G...|         3|\n",
      "+--------------------+----------+\n",
      "\n"
     ]
    }
   ],
   "source": [
    "df.filter(\"LocationID<=3\").select('Zone','LocationID').show()"
   ]
  },
  {
   "cell_type": "code",
   "execution_count": 94,
   "id": "39ded42e-d4a1-407a-a637-15c8c7df2863",
   "metadata": {},
   "outputs": [
    {
     "name": "stdout",
     "output_type": "stream",
     "text": [
      "+----------+-------------+--------------------+------------+\n",
      "|LocationID|      Borough|                Zone|service_zone|\n",
      "+----------+-------------+--------------------+------------+\n",
      "|         1|          EWR|      Newark Airport|         EWR|\n",
      "|         2|       Queens|         Jamaica Bay|   Boro Zone|\n",
      "|       251|Staten Island|         Westerleigh|   Boro Zone|\n",
      "|       252|       Queens|          Whitestone|   Boro Zone|\n",
      "|       253|       Queens|       Willets Point|   Boro Zone|\n",
      "|       254|        Bronx|Williamsbridge/Ol...|   Boro Zone|\n",
      "|       255|     Brooklyn|Williamsburg (Nor...|   Boro Zone|\n",
      "|       256|     Brooklyn|Williamsburg (Sou...|   Boro Zone|\n",
      "|       257|     Brooklyn|     Windsor Terrace|   Boro Zone|\n",
      "|       258|       Queens|           Woodhaven|   Boro Zone|\n",
      "|       259|        Bronx|  Woodlawn/Wakefield|   Boro Zone|\n",
      "|       260|       Queens|            Woodside|   Boro Zone|\n",
      "|       261|    Manhattan|  World Trade Center| Yellow Zone|\n",
      "|       262|    Manhattan|      Yorkville East| Yellow Zone|\n",
      "|       263|    Manhattan|      Yorkville West| Yellow Zone|\n",
      "|       264|      Unknown|                  NV|         N/A|\n",
      "|       265|      Unknown|                  NA|         N/A|\n",
      "+----------+-------------+--------------------+------------+\n",
      "\n"
     ]
    }
   ],
   "source": [
    "df.filter((df['LocationID']<3)|(df['LocationID']>250)).show()"
   ]
  },
  {
   "cell_type": "code",
   "execution_count": 92,
   "id": "37b0335f-247e-499b-bd09-e65d76754266",
   "metadata": {},
   "outputs": [
    {
     "name": "stdout",
     "output_type": "stream",
     "text": [
      "+-------+---------------+-------+--------------------+------------+\n",
      "|summary|     LocationID|Borough|                Zone|service_zone|\n",
      "+-------+---------------+-------+--------------------+------------+\n",
      "|  count|            265|    265|                 265|         265|\n",
      "|   mean|          133.0|   NULL|                NULL|        NULL|\n",
      "| stddev|76.643112323722|   NULL|                NULL|        NULL|\n",
      "|    min|              1|  Bronx|Allerton/Pelham G...|    Airports|\n",
      "|    max|            265|Unknown|      Yorkville West| Yellow Zone|\n",
      "+-------+---------------+-------+--------------------+------------+\n",
      "\n"
     ]
    }
   ],
   "source": [
    "df.describe().show()"
   ]
  },
  {
   "cell_type": "code",
   "execution_count": 133,
   "id": "a443657b-d512-456b-be9b-520e2cd0934f",
   "metadata": {},
   "outputs": [],
   "source": [
    "from pyspark.sql import SparkSession\n",
    "spark2=SparkSession.builder.appName('Second').getOrCreate()\n",
    "df2=spark2.read.csv('test3.csv',header=True,inferSchema=True) "
   ]
  },
  {
   "cell_type": "code",
   "execution_count": 103,
   "id": "6d43bbd2-53ca-4826-88ba-300717309371",
   "metadata": {},
   "outputs": [
    {
     "name": "stdout",
     "output_type": "stream",
     "text": [
      "+-----+------------+------+\n",
      "| Name| Departments|salary|\n",
      "+-----+------------+------+\n",
      "|Krish|Data Science| 10000|\n",
      "|Krish|         IOT|  5000|\n",
      "+-----+------------+------+\n",
      "only showing top 2 rows\n",
      "\n"
     ]
    }
   ],
   "source": [
    "\n",
    "df2.show(2)"
   ]
  },
  {
   "cell_type": "code",
   "execution_count": 104,
   "id": "0a02b709-5b4d-4963-a039-de860eb4940e",
   "metadata": {},
   "outputs": [
    {
     "name": "stdout",
     "output_type": "stream",
     "text": [
      "+-------+-----+-----------+-----------------+\n",
      "|summary| Name|Departments|           salary|\n",
      "+-------+-----+-----------+-----------------+\n",
      "|  count|   10|         10|               10|\n",
      "|   mean| NULL|       NULL|           7300.0|\n",
      "| stddev| NULL|       NULL|5396.500923952689|\n",
      "|    min|Krish|   Big Data|             2000|\n",
      "|    max|Sunny|        IOT|            20000|\n",
      "+-------+-----+-----------+-----------------+\n",
      "\n"
     ]
    }
   ],
   "source": [
    "df2.describe().show()"
   ]
  },
  {
   "cell_type": "code",
   "execution_count": 105,
   "id": "9df4dcc0-ef5a-4d6b-9e06-8221713c0edb",
   "metadata": {},
   "outputs": [
    {
     "name": "stdout",
     "output_type": "stream",
     "text": [
      "root\n",
      " |-- Name: string (nullable = true)\n",
      " |-- Departments: string (nullable = true)\n",
      " |-- salary: integer (nullable = true)\n",
      "\n"
     ]
    }
   ],
   "source": [
    "df2.printSchema()"
   ]
  },
  {
   "cell_type": "code",
   "execution_count": 115,
   "id": "5b8c684c-bf6a-4848-89f3-58089ca9ff99",
   "metadata": {},
   "outputs": [
    {
     "name": "stdout",
     "output_type": "stream",
     "text": [
      "+---------+-----------+\n",
      "|     Name|sum(salary)|\n",
      "+---------+-----------+\n",
      "|Sudhanshu|      35000|\n",
      "|    Sunny|      12000|\n",
      "|    Krish|      19000|\n",
      "|   Mahesh|       7000|\n",
      "+---------+-----------+\n",
      "\n"
     ]
    }
   ],
   "source": [
    "df2.groupby('Name').sum().show()\n"
   ]
  },
  {
   "cell_type": "code",
   "execution_count": 112,
   "id": "01f3c37c-765f-41bd-9c8c-6494972c9754",
   "metadata": {},
   "outputs": [
    {
     "name": "stdout",
     "output_type": "stream",
     "text": [
      "+-----------+\n",
      "|sum(salary)|\n",
      "+-----------+\n",
      "|      73000|\n",
      "+-----------+\n",
      "\n"
     ]
    }
   ],
   "source": [
    "from pyspark.sql.functions import sum\n",
    "df2.select(sum('salary')).show()"
   ]
  },
  {
   "cell_type": "code",
   "execution_count": 117,
   "id": "c0179594-e9d5-4c0f-a697-dc92e78893d6",
   "metadata": {},
   "outputs": [
    {
     "name": "stdout",
     "output_type": "stream",
     "text": [
      "+---------+------------------+\n",
      "|     Name|       avg(salary)|\n",
      "+---------+------------------+\n",
      "|Sudhanshu|11666.666666666666|\n",
      "|    Sunny|            6000.0|\n",
      "|    Krish| 6333.333333333333|\n",
      "|   Mahesh|            3500.0|\n",
      "+---------+------------------+\n",
      "\n"
     ]
    }
   ],
   "source": [
    "df2.groupby('Name').avg().show()"
   ]
  },
  {
   "cell_type": "code",
   "execution_count": 119,
   "id": "68ce3a3c-f5fe-4bf1-b334-525bfd3ee6f0",
   "metadata": {},
   "outputs": [
    {
     "name": "stdout",
     "output_type": "stream",
     "text": [
      "+------------+-----------+\n",
      "| Departments|sum(salary)|\n",
      "+------------+-----------+\n",
      "|         IOT|      15000|\n",
      "|    Big Data|      15000|\n",
      "|Data Science|      43000|\n",
      "+------------+-----------+\n",
      "\n"
     ]
    }
   ],
   "source": [
    "df2.groupby('Departments').sum().show()"
   ]
  },
  {
   "cell_type": "code",
   "execution_count": 120,
   "id": "74e20286-6236-46b0-aa3c-bf881f2d09c6",
   "metadata": {},
   "outputs": [
    {
     "name": "stdout",
     "output_type": "stream",
     "text": [
      "+------------+-----+\n",
      "| Departments|count|\n",
      "+------------+-----+\n",
      "|         IOT|    2|\n",
      "|    Big Data|    4|\n",
      "|Data Science|    4|\n",
      "+------------+-----+\n",
      "\n"
     ]
    }
   ],
   "source": [
    "df2.groupby('Departments').count().show()"
   ]
  },
  {
   "cell_type": "code",
   "execution_count": 121,
   "id": "43d60320-d634-4326-a058-c176a0c44c16",
   "metadata": {},
   "outputs": [
    {
     "name": "stdout",
     "output_type": "stream",
     "text": [
      "+-----------+\n",
      "|sum(salary)|\n",
      "+-----------+\n",
      "|      73000|\n",
      "+-----------+\n",
      "\n"
     ]
    }
   ],
   "source": [
    "df2.agg({'salary':'sum'}).show()"
   ]
  },
  {
   "cell_type": "code",
   "execution_count": null,
   "id": "7c4971af-e028-4ffe-af82-113f17303b52",
   "metadata": {},
   "outputs": [],
   "source": []
  },
  {
   "cell_type": "code",
   "execution_count": 125,
   "id": "9a7ef974-bd02-420f-a5f7-1897cb3b5233",
   "metadata": {},
   "outputs": [
    {
     "name": "stdout",
     "output_type": "stream",
     "text": [
      "+-----------+\n",
      "|avg(salary)|\n",
      "+-----------+\n",
      "|     7300.0|\n",
      "+-----------+\n",
      "\n"
     ]
    }
   ],
   "source": [
    "df2.agg({'salary':'avg'}).show()"
   ]
  },
  {
   "cell_type": "code",
   "execution_count": 126,
   "id": "73db47fa-a9c9-4fe5-8efe-b367248fed72",
   "metadata": {},
   "outputs": [
    {
     "name": "stdout",
     "output_type": "stream",
     "text": [
      "+-------------+\n",
      "|count(salary)|\n",
      "+-------------+\n",
      "|           10|\n",
      "+-------------+\n",
      "\n"
     ]
    }
   ],
   "source": [
    "df2.agg({'salary':'count'}).show()"
   ]
  },
  {
   "cell_type": "code",
   "execution_count": 127,
   "id": "f280c811-e4c5-4b42-bc80-07075841f331",
   "metadata": {},
   "outputs": [],
   "source": [
    "df2.write.format(\"parquet\").option(\"compression\",\"snappy\").save(\"testparquet\",mode='append')"
   ]
  },
  {
   "cell_type": "code",
   "execution_count": 128,
   "id": "a16d3728-cd0f-44d1-b84a-071882c3fdf5",
   "metadata": {},
   "outputs": [],
   "source": [
    "df2.write.format('csv').option(\"header\",\"True\").save(\"testagain\",mode='append')"
   ]
  },
  {
   "cell_type": "code",
   "execution_count": 129,
   "id": "5d85bd87-e556-43d2-8704-10f55ba92442",
   "metadata": {},
   "outputs": [],
   "source": [
    "df2.write.format('json').save(\"testjason\",mode='append')"
   ]
  },
  {
   "cell_type": "code",
   "execution_count": 144,
   "id": "05a5c5ce-36fa-4641-8066-0360cf43af34",
   "metadata": {},
   "outputs": [],
   "source": [
    "df3=spark2.read.format('json').option(\"multiline\",\"False\").load(\"testjason/part-00000-40ac33da-664a-4360-a946-3e17210f3a90-c000.json\") "
   ]
  },
  {
   "cell_type": "code",
   "execution_count": 142,
   "id": "1d20e4b7-45a9-4047-87ed-a108e556387b",
   "metadata": {},
   "outputs": [],
   "source": [
    "df4=spark2.read.format('csv').option(\"multiline\",\"True\").load(\"testagain/part-00000-919ce4a8-8a49-4c63-b2d1-b4ef49923f9a-c000.csv\") "
   ]
  },
  {
   "cell_type": "code",
   "execution_count": 145,
   "id": "4d08a475-0ce5-44cc-9923-f36ff284827e",
   "metadata": {},
   "outputs": [
    {
     "name": "stdout",
     "output_type": "stream",
     "text": [
      "+------------+---------+------+\n",
      "| Departments|     Name|salary|\n",
      "+------------+---------+------+\n",
      "|Data Science|    Krish| 10000|\n",
      "|         IOT|    Krish|  5000|\n",
      "|    Big Data|   Mahesh|  4000|\n",
      "|    Big Data|    Krish|  4000|\n",
      "|Data Science|   Mahesh|  3000|\n",
      "|Data Science|Sudhanshu| 20000|\n",
      "|         IOT|Sudhanshu| 10000|\n",
      "|    Big Data|Sudhanshu|  5000|\n",
      "|Data Science|    Sunny| 10000|\n",
      "|    Big Data|    Sunny|  2000|\n",
      "+------------+---------+------+\n",
      "\n"
     ]
    }
   ],
   "source": [
    "df3.show()"
   ]
  },
  {
   "cell_type": "code",
   "execution_count": 146,
   "id": "d3ca32bd-22fe-4907-ab49-f10500b298d5",
   "metadata": {},
   "outputs": [
    {
     "name": "stdout",
     "output_type": "stream",
     "text": [
      "+------------+---------+------+\n",
      "| Departments|     Name|salary|\n",
      "+------------+---------+------+\n",
      "|Data Science|    Krish| 10000|\n",
      "|         IOT|    Krish|  5000|\n",
      "|    Big Data|   Mahesh|  4000|\n",
      "|    Big Data|    Krish|  4000|\n",
      "|Data Science|   Mahesh|  3000|\n",
      "|Data Science|Sudhanshu| 20000|\n",
      "|         IOT|Sudhanshu| 10000|\n",
      "|    Big Data|Sudhanshu|  5000|\n",
      "|Data Science|    Sunny| 10000|\n",
      "|    Big Data|    Sunny|  2000|\n",
      "+------------+---------+------+\n",
      "\n"
     ]
    }
   ],
   "source": [
    "df5=spark2.read.format('json').option(\"multiline\",\"False\").load(\"testjason/part-00000-40ac33da-664a-4360-a946-3e17210f3a90-c000.json\")\n",
    "df5.show()"
   ]
  },
  {
   "cell_type": "code",
   "execution_count": 147,
   "id": "9693126c-d885-45cb-bdbd-fa06d7ccdc58",
   "metadata": {},
   "outputs": [],
   "source": [
    "df6=spark.read.format(\"parquet\").load(\"testparquet/part-00000-b1f6b177-128e-44fe-9a50-22ba1038b721-c000.snappy.parquet\")"
   ]
  },
  {
   "cell_type": "code",
   "execution_count": 148,
   "id": "31eb5a91-7f40-4662-9023-9337876c38a0",
   "metadata": {
    "scrolled": true
   },
   "outputs": [
    {
     "name": "stdout",
     "output_type": "stream",
     "text": [
      "+---------+------------+------+\n",
      "|     Name| Departments|salary|\n",
      "+---------+------------+------+\n",
      "|    Krish|Data Science| 10000|\n",
      "|    Krish|         IOT|  5000|\n",
      "|   Mahesh|    Big Data|  4000|\n",
      "|    Krish|    Big Data|  4000|\n",
      "|   Mahesh|Data Science|  3000|\n",
      "|Sudhanshu|Data Science| 20000|\n",
      "|Sudhanshu|         IOT| 10000|\n",
      "|Sudhanshu|    Big Data|  5000|\n",
      "|    Sunny|Data Science| 10000|\n",
      "|    Sunny|    Big Data|  2000|\n",
      "+---------+------------+------+\n",
      "\n"
     ]
    }
   ],
   "source": [
    "df6.show()"
   ]
  },
  {
   "cell_type": "code",
   "execution_count": 161,
   "id": "7b59fe0c-069f-4f3b-9b43-74dd341577b1",
   "metadata": {},
   "outputs": [
    {
     "name": "stdout",
     "output_type": "stream",
     "text": [
      "+--------------------+\n",
      "|                text|\n",
      "+--------------------+\n",
      "|Krish,Data Scienc...|\n",
      "|      Krish,IOT,5000|\n",
      "|Mahesh,Big Data,4000|\n",
      "| Krish,Big Data,4000|\n",
      "|Mahesh,Data Scien...|\n",
      "|Sudhanshu,Data Sc...|\n",
      "| Sudhanshu,IOT,10000|\n",
      "|Sudhanshu,Big Dat...|\n",
      "|Sunny,Data Scienc...|\n",
      "| Sunny,Big Data,2000|\n",
      "+--------------------+\n",
      "\n"
     ]
    }
   ],
   "source": [
    "\n",
    "# Combine all columns into a single string column\n",
    "from pyspark.sql.functions import concat_ws\n",
    "df6_single_string_column = df6.select(concat_ws(',', *df6.columns).alias('text'))\n",
    "\n",
    "df6_single_string_column.show()\n"
   ]
  },
  {
   "cell_type": "code",
   "execution_count": 150,
   "id": "3e9314da-0db6-4003-b79f-ca681ee83b29",
   "metadata": {},
   "outputs": [
    {
     "data": {
      "text/plain": [
       "['Name', 'Departments', 'salary']"
      ]
     },
     "execution_count": 150,
     "metadata": {},
     "output_type": "execute_result"
    }
   ],
   "source": [
    "df6.columns"
   ]
  },
  {
   "cell_type": "code",
   "execution_count": 163,
   "id": "41304923-1eb4-4920-bd5d-db9037f5b32f",
   "metadata": {},
   "outputs": [],
   "source": [
    "df6_single_string_column.write.format('text').save('testtest',mode='append')"
   ]
  },
  {
   "cell_type": "code",
   "execution_count": 165,
   "id": "d57a8bc2-1ddc-42a7-a40c-0e1cd8f40dbf",
   "metadata": {},
   "outputs": [],
   "source": [
    "df7=spark2.read.format('text').load('testtest/part-00000-b6df2f9a-370a-465b-a8b5-94abe8ec527c-c000.txt')"
   ]
  },
  {
   "cell_type": "code",
   "execution_count": 166,
   "id": "5c738be5-4ea7-4c16-8767-936e3730e907",
   "metadata": {},
   "outputs": [
    {
     "name": "stdout",
     "output_type": "stream",
     "text": [
      "+--------------------+\n",
      "|               value|\n",
      "+--------------------+\n",
      "|Krish,Data Scienc...|\n",
      "|      Krish,IOT,5000|\n",
      "|Mahesh,Big Data,4000|\n",
      "| Krish,Big Data,4000|\n",
      "|Mahesh,Data Scien...|\n",
      "|Sudhanshu,Data Sc...|\n",
      "| Sudhanshu,IOT,10000|\n",
      "|Sudhanshu,Big Dat...|\n",
      "|Sunny,Data Scienc...|\n",
      "| Sunny,Big Data,2000|\n",
      "+--------------------+\n",
      "\n"
     ]
    }
   ],
   "source": [
    "df7.show()"
   ]
  },
  {
   "cell_type": "code",
   "execution_count": 169,
   "id": "05bc7e12-8f96-46ec-ad6b-2d68233dbf95",
   "metadata": {},
   "outputs": [],
   "source": [
    "df8=spark2.read.format('text').option(\"lineSep\",\"\\n\").load('testtest/part-00000-b6df2f9a-370a-465b-a8b5-94abe8ec527c-c000.txt')"
   ]
  },
  {
   "cell_type": "code",
   "execution_count": 170,
   "id": "4c110b77-29f6-4349-b95d-4a52b5d3a9fe",
   "metadata": {},
   "outputs": [
    {
     "name": "stdout",
     "output_type": "stream",
     "text": [
      "+--------------------+\n",
      "|               value|\n",
      "+--------------------+\n",
      "|Krish,Data Scienc...|\n",
      "|      Krish,IOT,5000|\n",
      "|Mahesh,Big Data,4000|\n",
      "| Krish,Big Data,4000|\n",
      "|Mahesh,Data Scien...|\n",
      "|Sudhanshu,Data Sc...|\n",
      "| Sudhanshu,IOT,10000|\n",
      "|Sudhanshu,Big Dat...|\n",
      "|Sunny,Data Scienc...|\n",
      "| Sunny,Big Data,2000|\n",
      "+--------------------+\n",
      "\n"
     ]
    }
   ],
   "source": [
    "df8.show()"
   ]
  },
  {
   "cell_type": "code",
   "execution_count": 180,
   "id": "d19019e7-509d-4917-a2d9-6387469958a0",
   "metadata": {},
   "outputs": [
    {
     "name": "stdout",
     "output_type": "stream",
     "text": [
      "+---------+------------+------+\n",
      "|     name|  department|salary|\n",
      "+---------+------------+------+\n",
      "|    Krish|Data Science| 10000|\n",
      "|    Krish|         IOT|  5000|\n",
      "|   Mahesh|    Big Data|  4000|\n",
      "|    Krish|    Big Data|  4000|\n",
      "|   Mahesh|Data Science|  3000|\n",
      "|Sudhanshu|Data Science| 20000|\n",
      "|Sudhanshu|         IOT| 10000|\n",
      "|Sudhanshu|    Big Data|  5000|\n",
      "|    Sunny|Data Science| 10000|\n",
      "|    Sunny|    Big Data|  2000|\n",
      "+---------+------------+------+\n",
      "\n"
     ]
    }
   ],
   "source": [
    "from pyspark.sql.functions import split\n",
    "df8_split_array=df8.select(split('value',',').alias('columns'))\n",
    "\n",
    "df8_final=df8_split_array.selectExpr(\"columns[0] as name\",\"columns[1] as department\",\"columns[2] as salary\")\n",
    "\n",
    "df8_final.show()\n"
   ]
  },
  {
   "cell_type": "code",
   "execution_count": 181,
   "id": "42c77cc5-3267-4d56-a6f0-714032ec671b",
   "metadata": {},
   "outputs": [],
   "source": [
    "dft=df8_final.select(df8_final['name'].alias('N'))"
   ]
  },
  {
   "cell_type": "code",
   "execution_count": 182,
   "id": "27f2df5b-bc9d-4293-8d54-78e213b83490",
   "metadata": {},
   "outputs": [
    {
     "name": "stdout",
     "output_type": "stream",
     "text": [
      "+---------+\n",
      "|        N|\n",
      "+---------+\n",
      "|    Krish|\n",
      "|    Krish|\n",
      "|   Mahesh|\n",
      "|    Krish|\n",
      "|   Mahesh|\n",
      "|Sudhanshu|\n",
      "|Sudhanshu|\n",
      "|Sudhanshu|\n",
      "|    Sunny|\n",
      "|    Sunny|\n",
      "+---------+\n",
      "\n"
     ]
    }
   ],
   "source": [
    "dft.show()"
   ]
  },
  {
   "cell_type": "code",
   "execution_count": 189,
   "id": "b99be317-dc16-45dc-be7a-8d0c88585903",
   "metadata": {},
   "outputs": [],
   "source": [
    "df8_final=df8_final.withColumnRenamed('name','Name')"
   ]
  },
  {
   "cell_type": "code",
   "execution_count": 190,
   "id": "4fd29f07-3b26-4bed-9ae5-69c93f297907",
   "metadata": {},
   "outputs": [
    {
     "name": "stdout",
     "output_type": "stream",
     "text": [
      "+---------+------------+------+\n",
      "|     Name|  department|salary|\n",
      "+---------+------------+------+\n",
      "|    Krish|Data Science| 10000|\n",
      "|    Krish|         IOT|  5000|\n",
      "|   Mahesh|    Big Data|  4000|\n",
      "|    Krish|    Big Data|  4000|\n",
      "|   Mahesh|Data Science|  3000|\n",
      "|Sudhanshu|Data Science| 20000|\n",
      "|Sudhanshu|         IOT| 10000|\n",
      "|Sudhanshu|    Big Data|  5000|\n",
      "|    Sunny|Data Science| 10000|\n",
      "|    Sunny|    Big Data|  2000|\n",
      "+---------+------------+------+\n",
      "\n"
     ]
    }
   ],
   "source": [
    "df8_final.show()"
   ]
  },
  {
   "cell_type": "code",
   "execution_count": null,
   "id": "26085150-9132-4b89-99c5-f0981a8f0b63",
   "metadata": {},
   "outputs": [],
   "source": []
  }
 ],
 "metadata": {
  "kernelspec": {
   "display_name": "Python 3 (ipykernel)",
   "language": "python",
   "name": "python3"
  },
  "language_info": {
   "codemirror_mode": {
    "name": "ipython",
    "version": 3
   },
   "file_extension": ".py",
   "mimetype": "text/x-python",
   "name": "python",
   "nbconvert_exporter": "python",
   "pygments_lexer": "ipython3",
   "version": "3.11.6"
  }
 },
 "nbformat": 4,
 "nbformat_minor": 5
}
